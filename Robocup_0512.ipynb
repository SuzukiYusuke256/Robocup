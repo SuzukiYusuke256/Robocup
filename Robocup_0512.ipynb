{
  "nbformat": 4,
  "nbformat_minor": 0,
  "metadata": {
    "colab": {
      "name": "Robocup_0512.ipynb",
      "provenance": [],
      "authorship_tag": "ABX9TyN8nrT8ujEcRadq8oFK1WR3",
      "include_colab_link": true
    },
    "kernelspec": {
      "name": "python3",
      "display_name": "Python 3"
    },
    "language_info": {
      "name": "python"
    }
  },
  "cells": [
    {
      "cell_type": "markdown",
      "metadata": {
        "id": "view-in-github",
        "colab_type": "text"
      },
      "source": [
        "<a href=\"https://colab.research.google.com/github/SuzukiYusuke256/Robocup/blob/suzuki/Robocup_0512.ipynb\" target=\"_parent\"><img src=\"https://colab.research.google.com/assets/colab-badge.svg\" alt=\"Open In Colab\"/></a>"
      ]
    },
    {
      "cell_type": "code",
      "metadata": {
        "colab": {
          "base_uri": "https://localhost:8080/",
          "height": 282
        },
        "id": "DlAfiscDWBOU",
        "outputId": "eb6a14e7-61f6-4cf3-bc2d-430916e3b469"
      },
      "source": [
        "import math\n",
        "import matplotlib.pyplot as plt\n",
        "import numpy as np\n",
        "\n",
        "# direction = 0\n",
        "\n",
        "\n",
        "def calc_direction(direction):\n",
        "\n",
        "    attached_degree = [50, 130, 230, 310]\n",
        "    force = [0, 0, 0, 0]\n",
        "    x = [0, 0, 0, 0]\n",
        "    y = [0, 0, 0, 0]\n",
        "    for i in range(len(attached_degree)):\n",
        "        force[i] = 100*math.sin(math.radians(direction - attached_degree[i]))\n",
        "        x[i] = -force[i]*math.sin(math.radians(attached_degree[i]))\n",
        "        y[i] = force[i]*math.cos(math.radians(attached_degree[i]))\n",
        "\n",
        "    x_sum = 0\n",
        "    y_sum = 0\n",
        "    for i in range(len(x)):\n",
        "        x_sum = x_sum + x[i]\n",
        "        y_sum = y_sum + y[i]\n",
        "\n",
        "    return math.degrees(math.atan2(y_sum, x_sum))\n",
        "\n",
        "# print('x:{}, y:{}'.format(x_sum, y_sum))\n",
        "print(calc_direction(90))\n",
        "\n",
        "t = np.linspace(0,180, 181)\n",
        "y = [0]*181\n",
        "for i in range(len(t)):\n",
        "    y[i] = calc_direction(t[i])-t[i]\n",
        "\n",
        "plt.plot(t,y)\n",
        "plt.plot(t,[0]*181)\n",
        "plt.show()\n",
        "\n",
        "\n"
      ],
      "execution_count": null,
      "outputs": [
        {
          "output_type": "stream",
          "text": [
            "90.0\n"
          ],
          "name": "stdout"
        },
        {
          "output_type": "display_data",
          "data": {
            "image/png": "[encoded data removed]",
            "text/plain": [
              "<Figure size 432x288 with 1 Axes>"
            ]
          },
          "metadata": {
            "tags": [],
            "needs_background": "light"
          }
        }
      ]
    },
    {
      "cell_type": "code",
      "metadata": {
        "id": "I89arbqlGqtM",
        "colab": {
          "base_uri": "https://localhost:8080/",
          "height": 285
        },
        "outputId": "921b8059-9cb2-4179-cf1e-0395f46c6b31"
      },
      "source": [
        "# -*- coding: utf-8 -*-\n",
        "import numpy as np\n",
        "import matplotlib.pyplot as plt\n",
        "from matplotlib.widgets import Slider\n",
        "\n",
        "\n",
        "# xとyの値を生成\n",
        "x = np.arange(1, 5)\n",
        "y = x\n",
        "\n",
        "# グラフ描画位置の設定\n",
        "fig, ax = plt.subplots()\n",
        "plt.subplots_adjust(left=0.1, bottom=0.15)\n",
        "    \n",
        "# グラフ描画\n",
        "plt.grid()\n",
        "graph, = plt.plot(x, y)\n",
        "\n",
        "def threshold_update(slider_val):\n",
        "    y = x + slider_val\n",
        "    # xとyの値を更新\n",
        "    graph.set_xdata(x)\n",
        "    graph.set_ydata(y)\n",
        "    # グラフの再描画\n",
        "    fig.canvas.draw_idle()\n",
        "    \n",
        "# スライダーの表示位置\n",
        "slider_pos = plt.axes([0.1, 0.01, 0.8, 0.03])\n",
        "\n",
        "# Sliderオブジェクトのインスタンス作成\n",
        "threshold_slider = Slider(slider_pos, 'd', 0, 2, valinit=0)\n",
        "\n",
        "# スライダーの値が変更された場合の処理を呼び出し\n",
        "threshold_slider.on_changed(threshold_update)\n",
        "\n",
        "# グラフ表示\n",
        "plt.grid()\n",
        "plt.show()\n",
        "\n"
      ],
      "execution_count": null,
      "outputs": [
        {
          "output_type": "display_data",
          "data": {
            "image/png": "[encoded data removed]",
            "text/plain": [
              "<Figure size 432x288 with 2 Axes>"
            ]
          },
          "metadata": {
            "tags": [],
            "needs_background": "light"
          }
        }
      ]
    },
    {
      "cell_type": "code",
      "metadata": {
        "id": "0KdCjZ8zXNbQ"
      },
      "source": [
        ""
      ],
      "execution_count": null,
      "outputs": []
    },
    {
      "cell_type": "code",
      "metadata": {
        "id": "ZUzjvz_2W0hh"
      },
      "source": [
        ""
      ],
      "execution_count": null,
      "outputs": []
    },
    {
      "cell_type": "code",
      "metadata": {
        "colab": {
          "base_uri": "https://localhost:8080/"
        },
        "id": "WQdLrrOMc2vv",
        "outputId": "3b450068-eada-44f2-fd09-6f262fd4fcf8"
      },
      "source": [
        "import math \n",
        "import numpy as np\n",
        "import matplotlib.pyplot as plt\n",
        "\n",
        "#@title データ{run: \"auto\"}\n",
        "theta_deg = 58 #@param {type:\"slider\", min:0, max:360, step:1}\n",
        "#@title データ{run: \"auto\"}\n",
        "F4 = 43 #@param {type:\"slider\", min:0, max:60, step:1}\n",
        "\n",
        "motor_theta = [math.radians(50), math.radians(130), math.radians(230), math.radians(310)]\n",
        "theta4 = math.radians(310)\n",
        "theta = math.radians(theta_deg)\n",
        "\n",
        "F0 = 60\n",
        "\n",
        "F = [0, 0, 0, F4]\n",
        "\n",
        "A = [[math.cos(motor_theta[0]), math.cos(motor_theta[1]), math.cos(motor_theta[2])],\n",
        "     [math.sin(motor_theta[0]), math.sin(motor_theta[1]), math.sin(motor_theta[2])],\n",
        "     [1, 1, 1]]\n",
        "\n",
        "b = [F0*math.cos(motor_theta[0])-F4*math.cos(theta4), F0*math.sin(motor_theta[0])-F4*math.sin(theta4), -F4]\n",
        "\n",
        "detA = np.linalg.det(A)\n",
        "\n",
        "# F1を計算する\n",
        "a1 = [[math.cos(theta), math.cos(motor_theta[1]), math.cos(motor_theta[2])],\n",
        "      [math.sin(theta), math.sin(motor_theta[1]), math.sin(motor_theta[2])],\n",
        "      [0, 1, 1]]\n",
        "\n",
        "b1 = [[math.cos(motor_theta[3]), math.cos(motor_theta[1]), math.cos(motor_theta[2])],\n",
        "      [math.sin(motor_theta[3]), math.sin(motor_theta[1]), math.sin(motor_theta[2])],\n",
        "      [1, 1, 1]]\n",
        "\n",
        "F[0] = 1/detA*(F0*np.linalg.det(a1)-F4*np.linalg.det(b1))\n",
        "\n",
        "# F2を計算する\n",
        "a2 = [[math.cos(motor_theta[0]), math.cos(theta), math.cos(motor_theta[2])],\n",
        "      [math.sin(motor_theta[0]), math.sin(theta), math.sin(motor_theta[2])],\n",
        "      [1, 0, 1]]\n",
        "\n",
        "b2 = [[math.cos(motor_theta[0]), math.cos(motor_theta[3]), math.cos(motor_theta[2])],\n",
        "      [math.sin(motor_theta[0]), math.sin(motor_theta[3]), math.sin(motor_theta[2])],\n",
        "      [1, 1, 1]]\n",
        "\n",
        "F[1] = 1/detA*(F0*np.linalg.det(a2)-F4*np.linalg.det(b2))\n",
        "\n",
        "# F3を計算する\n",
        "a3 = [[math.cos(motor_theta[0]), math.cos(motor_theta[1]), math.cos(theta)],\n",
        "      [math.sin(motor_theta[0]), math.sin(motor_theta[1]), math.sin(theta)],\n",
        "      [1, 1, 0]]\n",
        "\n",
        "b3 = [[math.cos(motor_theta[0]), math.cos(motor_theta[1]), math.cos(motor_theta[3])],\n",
        "      [math.sin(motor_theta[0]), math.sin(motor_theta[1]), math.sin(motor_theta[3])],\n",
        "      [1, 1, 1]]\n",
        "\n",
        "F[2] = 1/detA*(F0*np.linalg.det(a3)-F4*np.linalg.det(b3))\n",
        "\n",
        "# print(F1)\n",
        "# print(F2)\n",
        "# print(F3)\n",
        "\n",
        "# 角度計算\n",
        "x = 0\n",
        "y = 0\n",
        "\n",
        "for i in range(4):\n",
        "    x += F[i]*math.cos(motor_theta[i])\n",
        "    y += F[i]*math.sin(motor_theta[i])\n",
        "\n",
        "print(math.degrees(math.atan2(y, x)))\n",
        "\n"
      ],
      "execution_count": 25,
      "outputs": [
        {
          "output_type": "stream",
          "text": [
            "58.00000000000002\n"
          ],
          "name": "stdout"
        }
      ]
    },
    {
      "cell_type": "code",
      "metadata": {
        "colab": {
          "base_uri": "https://localhost:8080/"
        },
        "id": "3Mwe8lpoo9vf",
        "outputId": "eb44f0cc-6344-42a2-c126-55f5b11f1f19"
      },
      "source": [
        ""
      ],
      "execution_count": 16,
      "outputs": [
        {
          "output_type": "stream",
          "text": [
            "4\n"
          ],
          "name": "stdout"
        }
      ]
    }
  ]
}