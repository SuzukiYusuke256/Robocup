{
  "nbformat": 4,
  "nbformat_minor": 0,
  "metadata": {
    "colab": {
      "name": "Robocup_0414.ipynb",
      "provenance": [],
      "include_colab_link": true
    },
    "kernelspec": {
      "name": "python3",
      "display_name": "Python 3"
    },
    "language_info": {
      "name": "python"
    }
  },
  "cells": [
    {
      "cell_type": "markdown",
      "metadata": {
        "id": "view-in-github",
        "colab_type": "text"
      },
      "source": [
        "<a href=\"https://colab.research.google.com/github/SuzukiYusuke256/Robocup/blob/muramoto/Robocup_0512.ipynb\" target=\"_parent\"><img src=\"https://colab.research.google.com/assets/colab-badge.svg\" alt=\"Open In Colab\"/></a>"
      ]
    },
    {
      "cell_type": "code",
      "metadata": {
        "colab": {
          "base_uri": "https://localhost:8080/",
          "height": 293
        },
        "id": "DlAfiscDWBOU",
        "outputId": "a29e7fad-494f-4cf8-db33-adca19a21716"
      },
      "source": [
        "import math\n",
        "import matplotlib.pyplot as plt\n",
        "import numpy as np\n",
        "\n",
        "# direction = 0\n",
        "\n",
        "\n",
        "def calc_direction(direction):\n",
        "\n",
        "    attached_degree = [50, 130, 230, 310]\n",
        "    force = [0, 0, 0, 0]\n",
        "    x = [0, 0, 0, 0]\n",
        "    y = [0, 0, 0, 0]\n",
        "    for i in range(len(attached_degree)):\n",
        "        force[i] = 100 * math.sin(math.radians(direction - attached_degree[i]))\n",
        "        if i < 2:\n",
        "            force[i] -= 22.6681 * math.sin(math.radians(direction - 90))\n",
        "        else:\n",
        "            force[i] += 22.6681 * math.sin(math.radians(direction - 90))\n",
        "        x[i] = -force[i]*math.sin(math.radians(attached_degree[i]))\n",
        "        y[i] = force[i]*math.cos(math.radians(attached_degree[i]))\n",
        "\n",
        "    x_sum = 0\n",
        "    y_sum = 0\n",
        "    for i in range(len(x)):\n",
        "        x_sum = x_sum + x[i]\n",
        "        y_sum = y_sum + y[i]\n",
        "\n",
        "    return math.degrees(math.atan2(y_sum, x_sum))\n",
        "\n",
        "# print('x:{}, y:{}'.format(x_sum, y_sum))\n",
        "print(calc_direction(90))\n",
        "\n",
        "t = np.linspace(0,180, 181)\n",
        "y = [0]*181\n",
        "for i in range(len(t)):\n",
        "    y[i] = calc_direction(t[i])-t[i]\n",
        "\n",
        "plt.plot(t,y)\n",
        "plt.plot(t,[0]*181)\n",
        "plt.show()\n",
        "\n",
        "\n"
      ],
      "execution_count": 40,
      "outputs": [
        {
          "output_type": "stream",
          "text": [
            "90.0\n"
          ],
          "name": "stdout"
        },
        {
          "output_type": "display_data",
          "data": {
            "image/png": "[encoded data removed]",
            "text/plain": [
              "<Figure size 432x288 with 1 Axes>"
            ]
          },
          "metadata": {
            "tags": [],
            "needs_background": "light"
          }
        }
      ]
    }
  ]
}